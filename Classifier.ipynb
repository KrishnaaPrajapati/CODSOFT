{
 "cells": [
  {
   "cell_type": "code",
   "execution_count": 1,
   "id": "83929f56",
   "metadata": {},
   "outputs": [
    {
     "name": "stdout",
     "output_type": "stream",
     "text": [
      "Requirement already satisfied: pillow in d:\\users\\hp\\anaconda3\\lib\\site-packages (9.4.0)Note: you may need to restart the kernel to use updated packages.\n",
      "\n"
     ]
    },
    {
     "name": "stderr",
     "output_type": "stream",
     "text": [
      "\n",
      "[notice] A new release of pip is available: 24.0 -> 24.1.2\n",
      "[notice] To update, run: python.exe -m pip install --upgrade pip\n"
     ]
    }
   ],
   "source": [
    "pip install pillow"
   ]
  },
  {
   "cell_type": "code",
   "execution_count": 2,
   "id": "f32778e8",
   "metadata": {},
   "outputs": [],
   "source": [
    "import numpy as np\n",
    "from PIL import Image\n",
    "import os \n",
    "import cv2"
   ]
  },
  {
   "cell_type": "code",
   "execution_count": 23,
   "id": "34f1e362",
   "metadata": {},
   "outputs": [
    {
     "name": "stdout",
     "output_type": "stream",
     "text": [
      "Classifier file 'classifier.yml' created successfully at D:\\datasets\\FaceRecognition\\classifier.yml\n"
     ]
    }
   ],
   "source": [
    "import os\n",
    "import numpy as np\n",
    "from PIL import Image\n",
    "import cv2\n",
    "\n",
    "def train_classifier(data_dir, save_dir):\n",
    "    path = [os.path.join(data_dir, f) for f in os.listdir(data_dir) if os.path.isfile(os.path.join(data_dir, f))]\n",
    "    faces = []\n",
    "    ids = []\n",
    "\n",
    "    for image in path:\n",
    "        try:\n",
    "            img = Image.open(image).convert('L')\n",
    "        except Exception as e:\n",
    "            print(f\"Failed to open image {image}: {e}\")\n",
    "            continue\n",
    "\n",
    "        try:\n",
    "            imageNP = np.array(img, 'uint8')\n",
    "            id_str = os.path.split(image)[1].split(\".\")[1]\n",
    "            id = int(id_str)\n",
    "        except Exception as e:\n",
    "            print(f\"Failed to process image {image}: {e}\")\n",
    "            continue\n",
    "\n",
    "        faces.append(imageNP)\n",
    "        ids.append(id)\n",
    "    \n",
    "    if len(faces) == 0 or len(ids) == 0:\n",
    "        print(\"No valid images found or processed. Exiting.\")\n",
    "        return\n",
    "    \n",
    "    ids = np.array(ids)\n",
    "    clf = cv2.face.LBPHFaceRecognizer_create()\n",
    "    \n",
    "    try:\n",
    "        clf.train(faces, ids)\n",
    "    except Exception as e:\n",
    "        print(f\"Failed to train classifier: {e}\")\n",
    "        return\n",
    "\n",
    "    classifier_path = os.path.join(save_dir, \"classifier.yml\")\n",
    "    try:\n",
    "        clf.write(classifier_path)\n",
    "        print(f\"Classifier file 'classifier.yml' created successfully at {classifier_path}\")\n",
    "    except Exception as e:\n",
    "        print(f\"Failed to write classifier file: {e}\")\n",
    "\n",
    "# Define the data directory and the directory where the classifier file should be saved\n",
    "data_dir = \"D:\\\\datasets\\\\FaceRecognition\\\\logs\"\n",
    "save_dir = \"D:\\\\datasets\\\\FaceRecognition\"\n",
    "train_classifier(data_dir, save_dir)"
   ]
  },
  {
   "cell_type": "code",
   "execution_count": 8,
   "id": "cadc2eb6",
   "metadata": {},
   "outputs": [],
   "source": []
  },
  {
   "cell_type": "code",
   "execution_count": null,
   "id": "e1338849",
   "metadata": {},
   "outputs": [],
   "source": []
  }
 ],
 "metadata": {
  "kernelspec": {
   "display_name": "Python 3 (ipykernel)",
   "language": "python",
   "name": "python3"
  },
  "language_info": {
   "codemirror_mode": {
    "name": "ipython",
    "version": 3
   },
   "file_extension": ".py",
   "mimetype": "text/x-python",
   "name": "python",
   "nbconvert_exporter": "python",
   "pygments_lexer": "ipython3",
   "version": "3.11.3"
  }
 },
 "nbformat": 4,
 "nbformat_minor": 5
}
