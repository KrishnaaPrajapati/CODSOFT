{
 "cells": [
  {
   "cell_type": "code",
   "execution_count": 1,
   "id": "90d5648c",
   "metadata": {},
   "outputs": [
    {
     "name": "stdout",
     "output_type": "stream",
     "text": [
      "pygame 2.6.0 (SDL 2.28.4, Python 3.11.3)\n",
      "Hello from the pygame community. https://www.pygame.org/contribute.html\n"
     ]
    },
    {
     "data": {
      "text/plain": [
       "(5, 0)"
      ]
     },
     "execution_count": 1,
     "metadata": {},
     "output_type": "execute_result"
    }
   ],
   "source": [
    "import sys\n",
    "import pygame\n",
    "import numpy as np\n",
    "pygame.init()"
   ]
  },
  {
   "cell_type": "code",
   "execution_count": 2,
   "id": "ed807e0d",
   "metadata": {},
   "outputs": [],
   "source": [
    "#COLORS\n",
    "WHITE = (255, 255, 255)\n",
    "GRAY = (180, 180, 180)\n",
    "RED = (255, 0, 0)\n",
    "GREEN = (0, 255, 0)\n",
    "BLACK = (0, 0, 0)"
   ]
  },
  {
   "cell_type": "code",
   "execution_count": 3,
   "id": "fe15cc55",
   "metadata": {},
   "outputs": [],
   "source": [
    "# PROPORTION AND SIZES \n",
    "WIDTH = 500\n",
    "HEIGHT = 500\n",
    "LINE_WIDTH = 5\n",
    "BOARD_ROWS = 3\n",
    "BOARD_COLS = 3\n",
    "SQUARE_SIZE = WIDTH // BOARD_COLS\n",
    "CIRCLE_RADIUS = SQUARE_SIZE // 3\n",
    "CIRCLE_WIDTH = 15\n",
    "CROSS_WIDTH = 25"
   ]
  },
  {
   "cell_type": "code",
   "execution_count": 4,
   "id": "a31f3a32",
   "metadata": {},
   "outputs": [
    {
     "data": {
      "text/plain": [
       "<rect(0, 0, 500, 500)>"
      ]
     },
     "execution_count": 4,
     "metadata": {},
     "output_type": "execute_result"
    }
   ],
   "source": [
    "screen = pygame.display.set_mode((WIDTH, HEIGHT))\n",
    "pygame.display.set_caption(\"TIC TAC TOE\")\n",
    "screen.fill(WHITE)"
   ]
  },
  {
   "cell_type": "code",
   "execution_count": 5,
   "id": "a6997009",
   "metadata": {},
   "outputs": [],
   "source": [
    "board = np.zeros((BOARD_ROWS, BOARD_COLS))"
   ]
  },
  {
   "cell_type": "code",
   "execution_count": 6,
   "id": "b8777dc4",
   "metadata": {},
   "outputs": [],
   "source": [
    "def draw_lines(color=BLACK):\n",
    "    for i in range(1, BOARD_ROWS):\n",
    "        pygame.draw.line(screen, color, (0, SQUARE_SIZE * i), (WIDTH, SQUARE_SIZE * i), LINE_WIDTH)\n",
    "        pygame.draw.line(screen, color, (SQUARE_SIZE * i, 0), (SQUARE_SIZE * i, HEIGHT), LINE_WIDTH)"
   ]
  },
  {
   "cell_type": "code",
   "execution_count": 7,
   "id": "76e0e74e",
   "metadata": {},
   "outputs": [],
   "source": [
    "def draw_figures():\n",
    "    for row in range(BOARD_ROWS):\n",
    "        for col in range(BOARD_COLS):\n",
    "            if board[row][col] == 1:\n",
    "                pygame.draw.circle(screen, BLACK, (int(col * SQUARE_SIZE + SQUARE_SIZE // 2), int(row * SQUARE_SIZE + SQUARE_SIZE // 2)), CIRCLE_RADIUS, CIRCLE_WIDTH)\n",
    "            elif board[row][col] == 2:\n",
    "                pygame.draw.line(screen, BLACK, (col * SQUARE_SIZE + SQUARE_SIZE // 4, row * SQUARE_SIZE + SQUARE_SIZE // 4), (col * SQUARE_SIZE + 3 * SQUARE_SIZE // 4, row * SQUARE_SIZE + 3 * SQUARE_SIZE // 4), CROSS_WIDTH)\n",
    "                pygame.draw.line(screen, BLACK, (col * SQUARE_SIZE + SQUARE_SIZE // 4, row * SQUARE_SIZE + 3 * SQUARE_SIZE // 4), (col * SQUARE_SIZE + 3 * SQUARE_SIZE // 4, row * SQUARE_SIZE + SQUARE_SIZE // 4), CROSS_WIDTH)"
   ]
  },
  {
   "cell_type": "code",
   "execution_count": 8,
   "id": "ecac54e6",
   "metadata": {},
   "outputs": [],
   "source": [
    "def mark_square(row, col, player):\n",
    "    board[row][col] = player\n",
    "\n",
    "def available_square(row, col):\n",
    "    return board[row][col] == 0"
   ]
  },
  {
   "cell_type": "code",
   "execution_count": 9,
   "id": "2f3f4dc3",
   "metadata": {},
   "outputs": [],
   "source": [
    "def is_board_full():\n",
    "    for row in range(BOARD_ROWS):\n",
    "        for col in range(BOARD_COLS):\n",
    "            if board[row][col] == 0:\n",
    "                return False\n",
    "    return True"
   ]
  },
  {
   "cell_type": "code",
   "execution_count": 10,
   "id": "476f69c8",
   "metadata": {},
   "outputs": [],
   "source": [
    "def check_win(player):\n",
    "    for col in range(BOARD_COLS):\n",
    "        if board[0][col] == player and board[1][col] == player and board[2][col] == player:\n",
    "            return True\n",
    "\n",
    "    for row in range(BOARD_ROWS):\n",
    "        if board[row][0] == player and board[row][1] == player and board[row][2] == player:\n",
    "            return True\n",
    "\n",
    "    if board[0][0] == player and board[1][1] == player and board[2][2] == player:\n",
    "        return True\n",
    "\n",
    "    if board[0][2] == player and board[1][1] == player and board[2][0] == player:\n",
    "        return True\n",
    "\n",
    "    return False"
   ]
  },
  {
   "cell_type": "code",
   "execution_count": 11,
   "id": "39dda656",
   "metadata": {},
   "outputs": [],
   "source": [
    "def minimax(minimax_board, depth, is_maximizing):\n",
    "    if check_win(2):\n",
    "        return float('inf')\n",
    "    elif check_win(1):\n",
    "        return float('-inf')\n",
    "    elif is_board_full():\n",
    "        return 0\n",
    "\n",
    "    if is_maximizing:\n",
    "        best_score = -1000\n",
    "        for row in range(BOARD_ROWS):\n",
    "            for col in range(BOARD_COLS):\n",
    "                if minimax_board[row][col] == 0:\n",
    "                    minimax_board[row][col] = 2\n",
    "                    score = minimax(minimax_board, depth + 1, False)\n",
    "                    minimax_board[row][col] = 0\n",
    "                    best_score = max(score, best_score)\n",
    "        return best_score\n",
    "    else:\n",
    "        best_score = 1000\n",
    "        for row in range(BOARD_ROWS):\n",
    "            for col in range(BOARD_COLS):\n",
    "                if minimax_board[row][col] == 0:\n",
    "                    minimax_board[row][col] = 1\n",
    "                    score = minimax(minimax_board, depth + 1, True)\n",
    "                    minimax_board[row][col] = 0\n",
    "                    best_score = min(score, best_score)\n",
    "        return best_score"
   ]
  },
  {
   "cell_type": "code",
   "execution_count": 12,
   "id": "283e2a5e",
   "metadata": {},
   "outputs": [],
   "source": [
    "def best_move():\n",
    "    best_score = -1000\n",
    "    move = (-1, -1)\n",
    "    for row in range(BOARD_ROWS):\n",
    "        for col in range(BOARD_COLS):\n",
    "            if board[row][col] == 0:\n",
    "                board[row][col] = 2\n",
    "                score = minimax(board, 0, False)\n",
    "                board[row][col] = 0\n",
    "                if score > best_score:\n",
    "                    best_score = score\n",
    "                    move = (row, col)\n",
    "    if move != (-1, -1):\n",
    "        mark_square(move[0], move[1], 2)\n",
    "        return True\n",
    "    return False"
   ]
  },
  {
   "cell_type": "code",
   "execution_count": 13,
   "id": "098bd53d",
   "metadata": {},
   "outputs": [],
   "source": [
    "def restart_game():\n",
    "    screen.fill(WHITE)\n",
    "    draw_lines()\n",
    "    for row in range(BOARD_ROWS):\n",
    "        for col in range(BOARD_COLS):\n",
    "            board[row][col] = 0"
   ]
  },
  {
   "cell_type": "code",
   "execution_count": 14,
   "id": "7e1d9ff9",
   "metadata": {},
   "outputs": [
    {
     "ename": "SystemExit",
     "evalue": "",
     "output_type": "error",
     "traceback": [
      "An exception has occurred, use %tb to see the full traceback.\n",
      "\u001b[1;31mSystemExit\u001b[0m\n"
     ]
    },
    {
     "name": "stderr",
     "output_type": "stream",
     "text": [
      "D:\\Users\\hp\\anaconda3\\Lib\\site-packages\\IPython\\core\\interactiveshell.py:3513: UserWarning: To exit: use 'exit', 'quit', or Ctrl-D.\n",
      "  warn(\"To exit: use 'exit', 'quit', or Ctrl-D.\", stacklevel=1)\n"
     ]
    }
   ],
   "source": [
    "draw_lines()\n",
    "player = 1\n",
    "game_over = False\n",
    "while True:\n",
    "    for event in pygame.event.get():\n",
    "        if event.type == pygame.QUIT:\n",
    "            sys.exit()\n",
    "\n",
    "        if event.type == pygame.MOUSEBUTTONDOWN and not game_over:\n",
    "            mouseX = event.pos[0] // SQUARE_SIZE\n",
    "            mouseY = event.pos[1] // SQUARE_SIZE\n",
    "\n",
    "            if available_square(mouseY, mouseX):\n",
    "                mark_square(mouseY, mouseX, player)\n",
    "                if check_win(player):\n",
    "                    game_over = True\n",
    "                player = player % 2 + 1\n",
    "\n",
    "            if not game_over:\n",
    "                if best_move():\n",
    "                    if check_win(2):\n",
    "                        game_over = True\n",
    "                    player = player % 2 + 1\n",
    "\n",
    "            if not game_over:\n",
    "                if is_board_full():\n",
    "                    game_over = True\n",
    "\n",
    "        if event.type == pygame.KEYDOWN:\n",
    "            if event.key == pygame.K_r:\n",
    "                restart_game()\n",
    "                game_over = False\n",
    "\n",
    "    if not game_over:\n",
    "        draw_figures()\n",
    "    else:\n",
    "        if check_win(1):\n",
    "            draw_figures()\n",
    "            draw_lines(GREEN)\n",
    "        elif check_win(2):\n",
    "            draw_figures()\n",
    "            draw_lines(RED)\n",
    "        else:\n",
    "            draw_figures()\n",
    "            draw_lines(GRAY)\n",
    "    pygame.display.update()\n",
    "    if game_over:\n",
    "        pygame.time.wait()\n",
    "        pygame.quit()\n",
    "        sys.exit()"
   ]
  },
  {
   "cell_type": "code",
   "execution_count": null,
   "id": "8dd6bfcf",
   "metadata": {},
   "outputs": [],
   "source": []
  }
 ],
 "metadata": {
  "kernelspec": {
   "display_name": "Python 3 (ipykernel)",
   "language": "python",
   "name": "python3"
  },
  "language_info": {
   "codemirror_mode": {
    "name": "ipython",
    "version": 3
   },
   "file_extension": ".py",
   "mimetype": "text/x-python",
   "name": "python",
   "nbconvert_exporter": "python",
   "pygments_lexer": "ipython3",
   "version": "3.11.3"
  }
 },
 "nbformat": 4,
 "nbformat_minor": 5
}
