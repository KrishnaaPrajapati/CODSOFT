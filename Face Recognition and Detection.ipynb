{
 "cells": [
  {
   "cell_type": "code",
   "execution_count": 2,
   "id": "711b9104",
   "metadata": {},
   "outputs": [],
   "source": [
    "import cv2"
   ]
  },
  {
   "cell_type": "code",
   "execution_count": 3,
   "id": "057ff68f",
   "metadata": {},
   "outputs": [],
   "source": [
    "def generate_dataset(image, Id, image_id):\n",
    "    cv2.imwrite(\"D:\\datasets\\data/user.\"+str(Id)+\".\"+str(image_id)+\".jpg\",image)\n",
    "    "
   ]
  },
  {
   "cell_type": "code",
   "execution_count": 10,
   "id": "b5336afc",
   "metadata": {},
   "outputs": [],
   "source": [
    "#draw_boundary()\n",
    "def draw_boundary(image, classifier, scaleFactor, minNeighbour, color, text, clf):\n",
    "    \n",
    "    gray_image = cv2.cvtColor(image, cv2.COLOR_BGR2GRAY)\n",
    "    features = classifier.detectMultiScale(gray_image, scaleFactor, minNeighbour)\n",
    "    coords = []\n",
    "    for (x, y, w, h) in features:\n",
    "        cv2.rectangle(image, (x, y), (x+w, y+h), color, 2)\n",
    "        id, _ = clf.predict(gray_image[y:y+h, x:x+w])\n",
    "        if id == 1:\n",
    "            cv2.putText(image, \"Krishna\", (x, y-4), cv2.FONT_HERSHEY_SIMPLEX, 0.8, color, 1, cv2.LINE_AA)\n",
    "        coords = [x, y, w, h]\n",
    "    return coords, image\n",
    "\n",
    "\n",
    "def recognize(image, clf, faceCascade):\n",
    "    color = {\"blue\":(255,0,0), \"red\": (0,0,255), \"green\":(0,255, 0)}\n",
    "    coords = draw_boundary(image, faceCascade, 1.1, 10, color['red'], \"Face\", clf)\n",
    "    return image\n",
    "\n",
    "\n",
    "\n",
    "def detect(image, faceCascade, eyesCascade, image_id):\n",
    "    color = {\"blue\":(255,0,0), \"red\": (0,0,255), \"green\":(0,255, 0)}\n",
    "    coords, image = draw_boundary(image, faceCascade, 1.1, 10, color['blue'], \"Face\")\n",
    "    \n",
    "    if len(coords)==4:\n",
    "        roi_image = image[coords[1]:coords[1]+coords[3], coords[0]:coords[0]+coords[2]]\n",
    "\n",
    "        user_id = 1\n",
    "        generate_dataset(roi_image, user_id, image_id)\n",
    "        \n",
    "        #coords = draw_boundary(roi_image, eyesCascade, 1.1, 14, color['red'], \"Eyes\")\n",
    "    return image    \n",
    "    \n",
    "faceCascade = cv2.CascadeClassifier(\"D:\\datasets\\haarcascade_frontalface_default.xml\")\n",
    "eyesCascade = cv2.CascadeClassifier(\"D:\\datasets\\haarcascade_eye.xml\")\n",
    "\n",
    "\n",
    "\n",
    "clf = cv2.face.LBPHFaceRecognizer_create()\n",
    "clf.read(\"D:\\datasets\\FaceRecognition\\classifier.yml\")"
   ]
  },
  {
   "cell_type": "code",
   "execution_count": 11,
   "id": "217add5c",
   "metadata": {},
   "outputs": [],
   "source": [
    "\n",
    "video_capture = cv2.VideoCapture(0)  # Use 0 for the default camera\n",
    "\n",
    "if not video_capture.isOpened():\n",
    "    print(\"Error: Could not open video stream.\")\n",
    "    exit()\n",
    "\n",
    "    \n",
    "image_id = 0\n",
    "\n",
    "\n",
    "while True:\n",
    "    ret, image = video_capture.read()\n",
    "    if not ret:\n",
    "        print(\"Error: Failed to capture image.\")\n",
    "        break\n",
    "    #image = detect(image, faceCascade, eyesCascade,image_id)\n",
    "    image = recognize(image, clf, faceCascade)\n",
    "    cv2.imshow(\"Face Detection\", image)\n",
    "    image_id +=1\n",
    "    if cv2.waitKey(1) & 0xFF == ord('q'):\n",
    "        break\n",
    "\n",
    "video_capture.release()\n",
    "cv2.destroyAllWindows()"
   ]
  },
  {
   "cell_type": "code",
   "execution_count": null,
   "id": "4ebe5ce4",
   "metadata": {},
   "outputs": [],
   "source": []
  },
  {
   "cell_type": "code",
   "execution_count": 9,
   "id": "51dae514",
   "metadata": {},
   "outputs": [],
   "source": [
    "video_capture.release()\n",
    "cv2.destroyAllWindows()"
   ]
  },
  {
   "cell_type": "code",
   "execution_count": null,
   "id": "fe293193",
   "metadata": {},
   "outputs": [],
   "source": []
  }
 ],
 "metadata": {
  "kernelspec": {
   "display_name": "Python 3 (ipykernel)",
   "language": "python",
   "name": "python3"
  },
  "language_info": {
   "codemirror_mode": {
    "name": "ipython",
    "version": 3
   },
   "file_extension": ".py",
   "mimetype": "text/x-python",
   "name": "python",
   "nbconvert_exporter": "python",
   "pygments_lexer": "ipython3",
   "version": "3.11.3"
  }
 },
 "nbformat": 4,
 "nbformat_minor": 5
}
